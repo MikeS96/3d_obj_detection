{
 "cells": [
  {
   "cell_type": "code",
   "execution_count": 1,
   "metadata": {},
   "outputs": [],
   "source": [
    "import numpy as np\n",
    "import cv2\n",
    "from PIL import Image\n",
    "import open3d as o3d\n",
    "import json\n",
    "import os\n",
    "from tqdm import tqdm\n",
    "import pandas as pd\n",
    "\n",
    "import matplotlib.pyplot as plt\n",
    "from matplotlib.axes import Axes\n",
    "from matplotlib import rcParams\n",
    "from shapely.geometry import MultiPoint, box\n",
    "\n",
    "# from pyquaternion.quaternion import Quaternion\n",
    "from pyquaternion import Quaternion\n",
    "import os.path as osp\n",
    "from nuscenes import NuScenes\n",
    "\n",
    "# Utils for Lidar and Radar\n",
    "from nuscenes.nuscenes import NuScenes\n",
    "from nuscenes.utils.geometry_utils import view_points, BoxVisibility\n",
    "from nuscenes.utils.data_classes import LidarPointCloud\n",
    "from nuscenes.utils.data_classes import RadarPointCloud\n",
    "from nuscenes.scripts.export_2d_annotations_as_json import get_2d_boxes, post_process_coords\n",
    "from utils import *\n",
    "\n",
    "from typing import Tuple, List, Dict, Union\n",
    "\n",
    "%matplotlib inline"
   ]
  },
  {
   "cell_type": "code",
   "execution_count": 2,
   "metadata": {},
   "outputs": [
    {
     "name": "stdout",
     "output_type": "stream",
     "text": [
      "======\n",
      "Loading NuScenes tables for version v1.0-mini...\n",
      "23 category,\n",
      "8 attribute,\n",
      "4 visibility,\n",
      "911 instance,\n",
      "12 sensor,\n",
      "120 calibrated_sensor,\n",
      "31206 ego_pose,\n",
      "8 log,\n",
      "10 scene,\n",
      "404 sample,\n",
      "31206 sample_data,\n",
      "18538 sample_annotation,\n",
      "4 map,\n",
      "Done loading in 1.2 seconds.\n",
      "======\n",
      "Reverse indexing ...\n",
      "Done reverse indexing in 0.1 seconds.\n",
      "======\n"
     ]
    }
   ],
   "source": [
    "#usc = NuScenes(version='v1.0-mini', dataroot='/home/gus/Documents/AI_S/nuScenes/v1_0-mini', verbose=True)\n",
    "nusc = NuScenes(version='v1.0-mini', dataroot='/home/sherlock/Documents/nuScenes/data', verbose=True)"
   ]
  },
  {
   "cell_type": "code",
   "execution_count": 5,
   "metadata": {},
   "outputs": [
    {
     "data": {
      "text/plain": [
       "{'annotation_token': '4b8f390f86aa433cac6c4247f907565f',\n",
       " 'sample_token': '841dd6709e9b4d7c9d6bf888f1fe6d7e',\n",
       " 'camera_token': '39caaccc75dd4e38b8fe6f40e81f5621',\n",
       " 'pointcloud_path': '/home/sherlock/Documents/3d_obj_detection/dataset/ann_points_lidar/pc_anno_4b8f390f86aa433cac6c4247f907565f.txt',\n",
       " 'pcl_shape': [3, 794],\n",
       " 'img_pc_path': '/home/sherlock/Documents/3d_obj_detection/dataset/ann_points_cam/img_pc_anno_4b8f390f86aa433cac6c4247f907565f.txt',\n",
       " 'img_pcl_shape': [4, 794],\n",
       " 'pcd_path': '/home/sherlock/Documents/3d_obj_detection/dataset/pcd_segmentation/pcd_segmentation_4b8f390f86aa433cac6c4247f907565f.pcd',\n",
       " 'point_features_path': '/home/sherlock/Documents/3d_obj_detection/dataset/point_features/pcd_segmentation_4b8f390f86aa433cac6c4247f907565f.txt',\n",
       " 'position_coord': [6.053757848521915, 4.1099025347326315, -0.899958760271085],\n",
       " 'wlh_values': [1.772, 4.294, 1.597],\n",
       " 'orientation_value': -177.91535813202847,\n",
       " 'category': 'vehicle'}"
      ]
     },
     "execution_count": 5,
     "metadata": {},
     "output_type": "execute_result"
    }
   ],
   "source": [
    "# Load the information from .txt file in JSON format\n",
    "sample_path = os.getcwd()+'/dataset/samples/sample_841dd6709e9b4d7c9d6bf888f1fe6d7e_file.txt'\n",
    "\n",
    "# This is a Dictionary of lists of dictionaries\n",
    "data_json = load_file(sample_path)\n",
    "data_json['instance'][0]"
   ]
  },
  {
   "cell_type": "code",
   "execution_count": 4,
   "metadata": {},
   "outputs": [],
   "source": [
    "from nuscenes.utils.geometry_utils import BoxVisibility\n",
    "\n",
    "box_vis_level = BoxVisibility.ANY\n",
    "    \n",
    "sample_record = nusc.get('sample', data_json['instance'][0]['sample_token'])\n",
    "cam = nusc.get('sample_data', data_json['instance'][0]['camera_token'])\n",
    "\n",
    "_, boxes, camera_intrinsic = nusc.get_sample_data(sample_record['data'][cam['channel']], box_vis_level=box_vis_level,\n",
    "                                                    selected_anntokens=[data_json['instance'][0]['annotation_token']])"
   ]
  },
  {
   "cell_type": "markdown",
   "metadata": {},
   "source": [
    "https://github.com/nutonomy/nuscenes-devkit/blob/master/python-sdk/nuscenes/utils/data_classes.py#L572\n",
    "\n",
    "https://github.com/nutonomy/nuscenes-devkit/blob/master/python-sdk/nuscenes/nuscenes.py#L1316"
   ]
  },
  {
   "cell_type": "code",
   "execution_count": 6,
   "metadata": {},
   "outputs": [
    {
     "data": {
      "text/plain": [
       "array([[1.26084744e+03, 0.00000000e+00, 8.07968245e+02],\n",
       "       [0.00000000e+00, 1.26084744e+03, 4.95334427e+02],\n",
       "       [0.00000000e+00, 0.00000000e+00, 1.00000000e+00]])"
      ]
     },
     "execution_count": 6,
     "metadata": {},
     "output_type": "execute_result"
    }
   ],
   "source": [
    "boxes[0]\n",
    "camera_intrinsic"
   ]
  },
  {
   "cell_type": "code",
   "execution_count": 7,
   "metadata": {},
   "outputs": [
    {
     "data": {
      "text/plain": [
       "array([[-0.52176648, -1.96608728, -1.91975839, -0.47543758,  1.96283816,\n",
       "         0.51851735,  0.56484625,  2.00916706],\n",
       "       [-0.18650868, -0.14021471,  1.45609862,  1.40980464, -0.24367553,\n",
       "        -0.19738156,  1.39893177,  1.35263779],\n",
       "       [ 4.37586692,  5.40142935,  5.39461757,  4.36905515,  7.87756762,\n",
       "         8.90313004,  8.89631827,  7.87075584]])"
      ]
     },
     "execution_count": 7,
     "metadata": {},
     "output_type": "execute_result"
    }
   ],
   "source": [
    "boxes[0].corners()"
   ]
  },
  {
   "cell_type": "code",
   "execution_count": null,
   "metadata": {},
   "outputs": [],
   "source": []
  }
 ],
 "metadata": {
  "kernelspec": {
   "display_name": "Python 3",
   "language": "python",
   "name": "python3"
  },
  "language_info": {
   "codemirror_mode": {
    "name": "ipython",
    "version": 3
   },
   "file_extension": ".py",
   "mimetype": "text/x-python",
   "name": "python",
   "nbconvert_exporter": "python",
   "pygments_lexer": "ipython3",
   "version": "3.7.7"
  }
 },
 "nbformat": 4,
 "nbformat_minor": 4
}
