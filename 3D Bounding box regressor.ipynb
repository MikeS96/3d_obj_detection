{
 "cells": [
  {
   "cell_type": "code",
   "execution_count": 1,
   "metadata": {},
   "outputs": [],
   "source": [
    "import numpy as np\n",
    "import cv2\n",
    "from PIL import Image\n",
    "import open3d as o3d\n",
    "import json\n",
    "import os\n",
    "from tqdm import tqdm\n",
    "import pandas as pd\n",
    "\n",
    "import matplotlib.pyplot as plt\n",
    "from matplotlib.axes import Axes\n",
    "from matplotlib import rcParams\n",
    "from shapely.geometry import MultiPoint, box\n",
    "import statistics as st\n",
    "\n",
    "# from pyquaternion.quaternion import Quaternion\n",
    "from pyquaternion import Quaternion\n",
    "import os.path as osp\n",
    "from nuscenes import NuScenes\n",
    "\n",
    "from sklearn.decomposition import PCA\n",
    "\n",
    "# Utils for Lidar and Radar\n",
    "from nuscenes.nuscenes import NuScenes\n",
    "from nuscenes.utils.geometry_utils import view_points, BoxVisibility\n",
    "from nuscenes.utils.data_classes import LidarPointCloud\n",
    "from nuscenes.utils.data_classes import RadarPointCloud\n",
    "from nuscenes.scripts.export_2d_annotations_as_json import get_2d_boxes, post_process_coords\n",
    "from nuscenes.utils.data_classes import LidarPointCloud, RadarPointCloud, Box\n",
    "from vis_utils import plot_3d_image_\n",
    "from utils import *\n",
    "\n",
    "from typing import Tuple, List, Dict, Union\n",
    "\n",
    "%matplotlib inline"
   ]
  },
  {
   "cell_type": "code",
   "execution_count": 2,
   "metadata": {},
   "outputs": [
    {
     "name": "stdout",
     "output_type": "stream",
     "text": [
      "======\n",
      "Loading NuScenes tables for version v1.0-mini...\n",
      "23 category,\n",
      "8 attribute,\n",
      "4 visibility,\n",
      "911 instance,\n",
      "12 sensor,\n",
      "120 calibrated_sensor,\n",
      "31206 ego_pose,\n",
      "8 log,\n",
      "10 scene,\n",
      "404 sample,\n",
      "31206 sample_data,\n",
      "18538 sample_annotation,\n",
      "4 map,\n",
      "Done loading in 0.5 seconds.\n",
      "======\n",
      "Reverse indexing ...\n",
      "Done reverse indexing in 0.1 seconds.\n",
      "======\n"
     ]
    }
   ],
   "source": [
    "#nusc = NuScenes(version='v1.0-mini', dataroot='/home/gus/Documents/AI_S/nuScenes/v1_0-mini', verbose=True)\n",
    "nusc = NuScenes(version='v1.0-mini', dataroot='/home/sherlock/Documents/nuScenes/data', verbose=True)"
   ]
  },
  {
   "cell_type": "code",
   "execution_count": 29,
   "metadata": {},
   "outputs": [
    {
     "name": "stderr",
     "output_type": "stream",
     "text": [
      "Sample files: 100%|██████████| 404/404 [00:00<00:00, 1562.46it/s]"
     ]
    },
    {
     "name": "stdout",
     "output_type": "stream",
     "text": [
      "(1413, 1782)\n",
      "(1413, 1782)\n",
      "(1413, 1782)\n"
     ]
    },
    {
     "name": "stderr",
     "output_type": "stream",
     "text": [
      "\n"
     ]
    }
   ],
   "source": [
    "# path with all the sample files\n",
    "samples_path =  os.getcwd() + '/dataset/samples/'\n",
    "\n",
    "# path to retrieve point clous features\n",
    "features_path =  os.getcwd() + '/dataset/point_features_path/'\n",
    "\n",
    "# Segmented pointd cloud paths\n",
    "segmentation_path =  os.getcwd() + '/dataset/pcd_segmentation/'\n",
    "\n",
    "# Matrix to store X components\n",
    "x = []\n",
    "# Matrix to store Y components\n",
    "y = []\n",
    "# Matrix to store Z components\n",
    "z = []\n",
    "\n",
    "# Maximum number of points allowed in the array\n",
    "M = 1782\n",
    "\n",
    "minv = 1000 # Smalles pcl\n",
    "maxv = 0 # Biggest pcl\n",
    "\n",
    "# extract all files in path\n",
    "for root, dirs, files in os.walk(samples_path):\n",
    "    \n",
    "    # select each sample file\n",
    "    for file_ in tqdm(files, desc = \"Sample files\"):    \n",
    "        \n",
    "        # load the current sample file\n",
    "        data_json = load_file(samples_path + file_)\n",
    "                \n",
    "        # process each instance\n",
    "        for idx in range(len(data_json['instance'])):\n",
    "            \n",
    "            # Create instance metadata\n",
    "            annotation_metadata = data_json['instance'][idx]\n",
    "                        \n",
    "            # Read segmented point cloud\n",
    "            pcd = o3d.io.read_point_cloud(annotation_metadata['pcd_path'])\n",
    "            \n",
    "            N = np.asarray(pcd.points).shape[0]\n",
    "            \n",
    "            # Temporal method to find the biggest (shape) point cloud\n",
    "            \n",
    "            '''\n",
    "            \n",
    "            if N < minv:\n",
    "                minv = N\n",
    "                \n",
    "            if N > maxv:\n",
    "                maxv = N\n",
    "                \n",
    "            '''         \n",
    "            \n",
    "            # Save the point cloud as a numpy array\n",
    "            points_xyz = np.asarray(pcd.points)\n",
    "            \n",
    "            temp_points = np.zeros((M, 3))\n",
    "            temp_points[:points_xyz.shape[0], :] = points_xyz\n",
    "            \n",
    "            #print(points_xyz[:, 0].shape)\n",
    "            \n",
    "            # Append the points to the lists\n",
    "            x.append(temp_points[:, 0])\n",
    "            y.append(temp_points[:, 1])\n",
    "            z.append(temp_points[:, 2])\n",
    "\n",
    "\n",
    "# Transform the lists into numpy array for future use\n",
    "x = np.array(x)\n",
    "y = np.array(y)\n",
    "z = np.array(z)\n",
    "\n",
    "print(x.shape)\n",
    "print(y.shape)\n",
    "print(z.shape)"
   ]
  },
  {
   "cell_type": "code",
   "execution_count": 65,
   "metadata": {},
   "outputs": [
    {
     "name": "stdout",
     "output_type": "stream",
     "text": [
      "Original shape of X: (1413, 1782)\n",
      "Reduced shape of X: (1413, 1)\n",
      "PCA component shape: (1, 1782)\n",
      "PCA component: [[0.07745545 0.07806289 0.07804653 ... 0.00024932 0.00024892 0.00018811]]\n",
      "The PCA value is: [-171.88996617]\n",
      "The Lidar Vector is: [1 0 0]\n",
      "The point cloud principal components are: [[-171.88996617]\n",
      " [ -93.35845888]\n",
      " [ -50.07275772]]\n",
      "The arccos value of a simple sample is: [2.58926022]\n"
     ]
    }
   ],
   "source": [
    "# keep the first principal components of the data for each axis\n",
    "pca_x = PCA(n_components = 1) \n",
    "pca_y = PCA(n_components = 1) \n",
    "pca_z = PCA(n_components = 1) \n",
    "# fit PCA model to each component of the point cloud\n",
    "pca_x.fit(x) \n",
    "pca_y.fit(x) \n",
    "pca_z.fit(x) \n",
    "# transform data onto the first principal components \n",
    "X_pca = pca_x.transform(x) \n",
    "Y_pca = pca_y.transform(y) \n",
    "Z_pca = pca_z.transform(z)\n",
    "\n",
    "print(\"Original shape of X: {}\".format(str(x.shape)))\n",
    "print(\"Reduced shape of X: {}\".format(str(X_pca.shape)))\n",
    "\n",
    "# As much components as original features\n",
    "print('PCA component shape: {}'.format(pca.components_.shape))\n",
    "# There are one value in componentes (per feature), the first principal\n",
    "print('PCA component: {}'.format(pca.components_))\n",
    "# Text one PCA value for X\n",
    "idx = 120\n",
    "print('The PCA value is: {}'.format(X_pca[idx, :]))\n",
    "\n",
    "lidar = np.array([1, 0, 0]) # column vector\n",
    "pcl_segmented = np.array([X_pca[idx, :], Y_pca[idx, :], Z_pca[idx, :]])\n",
    "\n",
    "print('The Lidar Vector is: {}'.format(lidar))\n",
    "print('The point cloud principal components are: {}'.format(pcl_segmented))\n",
    "\n",
    "dotProd = lidar.dot(pcl_segmented)\n",
    "normProd= np.linalg.norm(lidar) * np.linalg.norm(pcl_segmented)\n",
    "angle = np.arccos(dotProd / normProd)\n",
    "\n",
    "print('The arccos value of a simple sample is: {}'.format(angle))"
   ]
  },
  {
   "cell_type": "markdown",
   "metadata": {},
   "source": [
    "## Loop to create the features and targets file"
   ]
  },
  {
   "cell_type": "code",
   "execution_count": 68,
   "metadata": {},
   "outputs": [
    {
     "name": "stderr",
     "output_type": "stream",
     "text": [
      "Sample files: 100%|██████████| 404/404 [00:04<00:00, 98.07it/s] \n"
     ]
    },
    {
     "data": {
      "text/plain": [
       "{'annotation_token': 'd8fcbd175ff64c71a26eb8eefe50a909',\n",
       " 'sample_token': '23799328f65843fc9e0c71f2bfbe90ef',\n",
       " 'camera_token': '75ff6b54dd154fe5a3a450e8ab79d006',\n",
       " 'pointcloud_path': '/home/sherlock/Documents/3d_obj_detection/dataset/ann_points_lidar/pc_anno_d8fcbd175ff64c71a26eb8eefe50a909.txt',\n",
       " 'pcl_shape': [3, 1069],\n",
       " 'img_pc_path': '/home/sherlock/Documents/3d_obj_detection/dataset/ann_points_cam/img_pc_anno_d8fcbd175ff64c71a26eb8eefe50a909.txt',\n",
       " 'img_pcl_shape': [4, 1069],\n",
       " 'pcd_path': '/home/sherlock/Documents/3d_obj_detection/dataset/pcd_segmentation/pcd_segmentation_d8fcbd175ff64c71a26eb8eefe50a909.pcd',\n",
       " 'point_features_path': '/home/sherlock/Documents/3d_obj_detection/dataset/point_features/pcd_segmentation_d8fcbd175ff64c71a26eb8eefe50a909.txt',\n",
       " 'position_coord': [-8.01931192409964,\n",
       "  -0.5337671004285317,\n",
       "  -1.0506086309228753],\n",
       " 'wlh_values': [1.891, 4.81, 1.873],\n",
       " 'orientation_value': -89.46685818502475,\n",
       " 'rotation_axis': 0.9992781194251954,\n",
       " 'category': 'vehicle'}"
      ]
     },
     "execution_count": 68,
     "metadata": {},
     "output_type": "execute_result"
    }
   ],
   "source": [
    "# path with all the sample files\n",
    "samples_path =  os.getcwd() + '/dataset/samples/'\n",
    "\n",
    "# path to retrieve point clous features\n",
    "features_path =  os.getcwd() + '/dataset/point_features_path/'\n",
    "\n",
    "# Matrix to store the features' vectors\n",
    "features_matrix = []\n",
    "# Dictionary of targets\n",
    "targets_dic = {'x_pos': [], 'y_pos': [], 'z_pos': [], 'width': [], 'lenght': [], 'height': [], 'yaw': []}\n",
    "\n",
    "tokens_dic = {'sample_token': [], 'camera_token': [], 'category': []}\n",
    "\n",
    "# Vectors to compute orientations\n",
    "vec_x = np.array([1, 0, 0]) \n",
    "vec_y = np.array([0, 1, 0]) \n",
    "vec_z = np.array([0, 0, 1]) \n",
    "\n",
    "# extract all files in path\n",
    "for root, dirs, files in os.walk(samples_path):\n",
    "    \n",
    "    # select each sample file\n",
    "    for file_ in tqdm(files, desc = \"Sample files\"):    \n",
    "        \n",
    "        # load the current sample file\n",
    "        data_json = load_file(samples_path + file_)\n",
    "                \n",
    "        # process each instance\n",
    "        for idx in range(len(data_json['instance'])):\n",
    "            \n",
    "            # Create instance metadata\n",
    "            annotation_metadata = data_json['instance'][idx]\n",
    "            \n",
    "            # Point cloud\n",
    "            pcd = o3d.io.read_point_cloud(annotation_metadata['pcd_path'])            \n",
    "            \n",
    "            pointcloud = np.asarray(pcd.points).T\n",
    "            \n",
    "            # Mean\n",
    "            mean_x = st.mean(pointcloud[0,:])\n",
    "            mean_y = st.mean(pointcloud[1,:])\n",
    "            mean_z = st.mean(pointcloud[2,:])\n",
    "            \n",
    "            # Median\n",
    "            median_x = st.median(pointcloud[0,:])\n",
    "            median_y = st.median(pointcloud[1,:])\n",
    "            median_z = st.median(pointcloud[2,:])\n",
    "            \n",
    "            # Middle\n",
    "            middle_x = middle_func(pointcloud[0,:])\n",
    "            middle_y = middle_func(pointcloud[1,:])\n",
    "            middle_z = middle_func(pointcloud[2,:])            \n",
    "\n",
    "            # Retrieve instance's features\n",
    "            features_vec = parse_features_to_numpy(annotation_metadata['point_features_path'])\n",
    "            \n",
    "            # matrix with the points arranged as M x 3\n",
    "            points_xyz = np.asarray(pcd.points)\n",
    "            # Arrange the points in a fixed size in such way that the missing values are filled with zeroes\n",
    "            temp_points = np.zeros((M, 3))\n",
    "            temp_points[:points_xyz.shape[0], :] = points_xyz\n",
    "            \n",
    "            # Computing angles\n",
    "            X_pca = pca_x.transform(temp_points[:, 0].reshape(1, -1)).squeeze()\n",
    "            Y_pca = pca_y.transform(temp_points[:, 1].reshape(1, -1)).squeeze()\n",
    "            Z_pca = pca_z.transform(temp_points[:, 2].reshape(1, -1)).squeeze()\n",
    "            \n",
    "            # Construct point cloud vector\n",
    "            pcl_vec = np.array([X_pca, Y_pca, Z_pca])\n",
    "            \n",
    "            # Compute the cos values for each axis\n",
    "            roll_x = np.arccos( vec_x.dot(pcl_vec) / (np.linalg.norm(vec_x) * np.linalg.norm(pcl_vec)))\n",
    "            pitch_y = np.arccos( vec_y.dot(pcl_vec) / (np.linalg.norm(vec_y) * np.linalg.norm(pcl_vec)))\n",
    "            yaw_z = np.arccos( vec_z.dot(pcl_vec) / (np.linalg.norm(vec_z) * np.linalg.norm(pcl_vec)))\n",
    "            \n",
    "            # Add mean meadian and middle to features matrix\n",
    "            features_vec = np.hstack([features_vec, mean_x, mean_y, mean_z, median_x, \n",
    "                                      median_y, median_z, middle_x, middle_y, middle_z, roll_x,\n",
    "                                     pitch_y, yaw_z])\n",
    "            \n",
    "            # Store the current feature vector in the features' matrix\n",
    "            features_matrix.append(list(features_vec))\n",
    "            \n",
    "            # Extract class targets\n",
    "            pose = annotation_metadata['position_coord']\n",
    "            dims = annotation_metadata['wlh_values']\n",
    "            yaw = annotation_metadata['orientation_value']\n",
    "            label = annotation_metadata['category']\n",
    "            \n",
    "            # Save X, Y and Z pose\n",
    "            targets_dic['x_pos'].append(pose[0])\n",
    "            targets_dic['y_pos'].append(pose[1])\n",
    "            targets_dic['z_pos'].append(pose[2])\n",
    "            \n",
    "            # Store target size\n",
    "            targets_dic['width'].append(dims[0])\n",
    "            targets_dic['lenght'].append(dims[1])\n",
    "            targets_dic['height'].append(dims[2])\n",
    "            \n",
    "            # Save the orientations in such way that the rotation matrix is always 1\n",
    "            if annotation_metadata['rotation_axis'] > 0:\n",
    "                # Store target orientation\n",
    "                targets_dic['yaw'].append(yaw)\n",
    "            else:\n",
    "                targets_dic['yaw'].append(-yaw)\n",
    "                \n",
    "            \n",
    "            # Store sample, camera and annotation token\n",
    "            tokens_dic['sample_token'].append(annotation_metadata['sample_token'])\n",
    "            tokens_dic['camera_token'].append(annotation_metadata['camera_token'])\n",
    "            tokens_dic['category'].append(annotation_metadata['category'])\n",
    "            \n",
    "            \n",
    "# Parse features as a numpy array\n",
    "features_matrix = np.array(features_matrix)\n",
    "\n",
    "# Create a dataframe of features\n",
    "df_features = pd.DataFrame(data = features_matrix)\n",
    "# Create a dataframe of targets\n",
    "df_targets = pd.DataFrame.from_dict(targets_dic)\n",
    "# Create a dataframe of tokens\n",
    "df_tokens = pd.DataFrame.from_dict(tokens_dic)\n",
    "\n",
    "# Concat both dataframes horizontally to create the final dataframe\n",
    "df_detection = pd.concat([df_features, df_targets, df_tokens], axis=1)\n",
    "df_detection.head()\n",
    "\n",
    "df_detection.to_csv('dataset/3d_obj_detection.csv')\n",
    "\n",
    "annotation_metadata"
   ]
  },
  {
   "cell_type": "markdown",
   "metadata": {},
   "source": [
    "## Loading CSV and parsing info as a numpy array"
   ]
  },
  {
   "cell_type": "code",
   "execution_count": 75,
   "metadata": {},
   "outputs": [
    {
     "name": "stdout",
     "output_type": "stream",
     "text": [
      "The Dataframe shape is (1413, 663)\n",
      "The targets keys are Index(['x_pos', 'y_pos', 'z_pos', 'width', 'lenght', 'height', 'yaw'], dtype='object')\n",
      "The Features shape is (1413, 652)\n",
      "The Targets shape is (1413, 10)\n"
     ]
    }
   ],
   "source": [
    "# Load dataframe form CSV file\\n\", 63b89fe17f3e41ecbe28337e0e35db8e\n",
    "df_detection_csv = pd.read_csv('dataset/3d_obj_detection.csv')\n",
    "# features: 1 - 640 // targets: 641 - 648\n",
    "        \n",
    "print('The Dataframe shape is {}'.format(df_detection_csv.shape))\n",
    "print('The targets keys are',df_detection_csv.keys()[653:660])\n",
    "# Parse features and targets to numpy array\\n\",\n",
    "features = df_detection_csv.loc[:,'0':'651'].to_numpy()\n",
    "targets = df_detection_csv.loc[:,'x_pos':'category']\n",
    "print('The Features shape is {}'.format(features.shape))\n",
    "print('The Targets shape is {}'.format(targets.shape))"
   ]
  },
  {
   "cell_type": "markdown",
   "metadata": {},
   "source": [
    "## Splitting and scaling the data"
   ]
  },
  {
   "cell_type": "code",
   "execution_count": 76,
   "metadata": {},
   "outputs": [
    {
     "name": "stdout",
     "output_type": "stream",
     "text": [
      "Train set features size: \n",
      " (1130, 652)\n",
      "Test set featires size: \n",
      " (283, 652)\n",
      "Train set targets size: \n",
      " (1130, 10)\n",
      "Test set targets size: \n",
      " (283, 10)\n"
     ]
    }
   ],
   "source": [
    "from sklearn.model_selection import train_test_split \n",
    "from sklearn.preprocessing import MinMaxScaler\n",
    "from sklearn.preprocessing import StandardScaler \n",
    "from sklearn.preprocessing import RobustScaler \n",
    "from sklearn.preprocessing import Normalizer \n",
    "\n",
    "X_train, X_test, y_train, y_test = train_test_split(features, targets, test_size=0.2, random_state=1)\n",
    "\n",
    "print('Train set features size: \\n {}'.format(X_train.shape))\n",
    "print('Test set featires size: \\n {}'.format(X_test.shape))\n",
    "print('Train set targets size: \\n {}'.format(y_train.shape))\n",
    "print('Test set targets size: \\n {}'.format(y_test.shape))\n",
    "\n",
    "y_train_tokens = y_train.drop(['x_pos', 'y_pos', 'z_pos', 'width', 'lenght', 'height', 'yaw'], axis=1)\n",
    "y_test_tokens =  y_test.drop(['x_pos', 'y_pos', 'z_pos', 'width', 'lenght', 'height', 'yaw'], axis=1)\n",
    "y_train = y_train.loc[:,'x_pos':'yaw'].to_numpy()\n",
    "y_test = y_test.loc[:,'x_pos':'yaw'].to_numpy()\n",
    "\n",
    "# transform orientation from degres to sin + 1 \n",
    "y_train_yaw = y_train[:, 6]\n",
    "#y_train[:, 6] = (np.sin(np.deg2rad(y_train_yaw))*2)+2\n",
    "y_train[:, 6] = np.deg2rad(y_train_yaw)\n",
    "\n",
    "y_test_yaw = y_test[:, 6]\n",
    "#y_test[:, 6] = (np.sin(np.deg2rad(y_test_yaw))*2)+2\n",
    "y_test[:, 6] = np.deg2rad(y_test_yaw)"
   ]
  },
  {
   "cell_type": "markdown",
   "metadata": {},
   "source": [
    "## Transformation"
   ]
  },
  {
   "cell_type": "code",
   "execution_count": 77,
   "metadata": {},
   "outputs": [],
   "source": [
    "scaler = MinMaxScaler()\n",
    "scaler.fit(X_train) \n",
    "X_train_scaled = scaler.transform(X_train)\n",
    "X_test_scaled = scaler.transform(X_test)"
   ]
  },
  {
   "cell_type": "markdown",
   "metadata": {},
   "source": [
    "## Multi output regressor Ridge "
   ]
  },
  {
   "cell_type": "code",
   "execution_count": 78,
   "metadata": {},
   "outputs": [],
   "source": [
    "from sklearn.multioutput import MultiOutputRegressor\n",
    "from sklearn.linear_model import Ridge\n",
    "\n",
    "clf = MultiOutputRegressor(Ridge(random_state = 123)).fit(X_train_scaled, y_train)"
   ]
  },
  {
   "cell_type": "code",
   "execution_count": 79,
   "metadata": {},
   "outputs": [
    {
     "name": "stdout",
     "output_type": "stream",
     "text": [
      "Training set score is: 0.85\n",
      "Test set score is: 0.65\n"
     ]
    }
   ],
   "source": [
    "print('Training set score is: {:.2f}'.format(clf.score(X_train_scaled, y_train)))\n",
    "print('Test set score is: {:.2f}'.format(clf.score(X_test_scaled, y_test)))"
   ]
  },
  {
   "cell_type": "code",
   "execution_count": 80,
   "metadata": {},
   "outputs": [
    {
     "name": "stdout",
     "output_type": "stream",
     "text": [
      "Train prediction:  [ 6.9836784  -6.347731   -1.26433814  1.94876443  4.93062626  1.86227245\n",
      " -0.74254494]\n",
      "Train Targets:  [ 7.40000587 -6.36512529 -1.35301024  1.895       4.75        1.52\n",
      " -1.10330273]\n"
     ]
    }
   ],
   "source": [
    "index=150\n",
    "ridge_pred_train = clf.predict(X_train_scaled)\n",
    "print('Train prediction: ', ridge_pred_train[index])\n",
    "print(\"Train Targets: \", y_train[index] )\n",
    "# ['x_pos', 'y_pos', 'z_pos', 'width', 'lenght', 'height', 'yaw']"
   ]
  },
  {
   "cell_type": "code",
   "execution_count": 81,
   "metadata": {},
   "outputs": [
    {
     "name": "stdout",
     "output_type": "stream",
     "text": [
      "Test prediction:  [ 5.17084405 11.08365096 -0.4675771   1.851594    4.54235558  1.75785918\n",
      " -0.27173145]\n",
      "Test Targets:  [ 4.38095063 10.5800861  -0.48039748  1.889       4.76        1.531\n",
      "  1.58656742]\n"
     ]
    }
   ],
   "source": [
    "index=60\n",
    "ridge_pred_test = clf.predict(X_test_scaled)\n",
    "print('Test prediction: ', ridge_pred_test[index])\n",
    "print(\"Test Targets: \", y_test[index] )\n",
    "# ['x_pos', 'y_pos', 'z_pos', 'width', 'lenght', 'height', 'yaw']"
   ]
  },
  {
   "cell_type": "markdown",
   "metadata": {},
   "source": [
    "## Multi output regressor SVR¶"
   ]
  },
  {
   "cell_type": "code",
   "execution_count": 168,
   "metadata": {},
   "outputs": [
    {
     "name": "stdout",
     "output_type": "stream",
     "text": [
      "Training set score is: 0.95\n",
      "Test set score is: 0.54\n"
     ]
    }
   ],
   "source": [
    "from sklearn import svm\n",
    "\n",
    "clf = MultiOutputRegressor(svm.SVR(kernel='poly', degree= 6)).fit(X_train_scaled, y_train)\n",
    "\n",
    "print('Training set score is: {:.2f}'.format(clf.score(X_train_scaled, y_train)))\n",
    "print('Test set score is: {:.2f}'.format(clf.score(X_test_scaled, y_test)))"
   ]
  },
  {
   "cell_type": "code",
   "execution_count": 169,
   "metadata": {},
   "outputs": [
    {
     "name": "stdout",
     "output_type": "stream",
     "text": [
      "Train prediction:  [ 4.27782907 10.80480995 -0.57485138  1.91899559  4.82702117  2.10374737\n",
      " -1.44428711]\n",
      "Train Targets:  [ 4.37782236 10.70494146 -0.4747859   1.819       4.727       2.112\n",
      " -1.54437567]\n"
     ]
    }
   ],
   "source": [
    "index=60\n",
    "svm_pred_train = clf.predict(X_train_scaled)\n",
    "print('Train prediction: ', svm_pred_train[index])\n",
    "print(\"Train Targets: \", y_train[index] )\n",
    "# ['x_pos', 'y_pos', 'z_pos', 'width', 'lenght', 'height', 'yaw']"
   ]
  },
  {
   "cell_type": "code",
   "execution_count": 170,
   "metadata": {},
   "outputs": [
    {
     "name": "stdout",
     "output_type": "stream",
     "text": [
      "Test prediction:  [ 3.68920931 10.47980125 -0.55143402  1.82485982  4.25794061  1.61177159\n",
      " -0.69771598]\n",
      "Test Targets:  [ 4.38095063 10.5800861  -0.48039748  1.889       4.76        1.531\n",
      "  1.58656742]\n"
     ]
    }
   ],
   "source": [
    "index = 60\n",
    "svm_pred_test = clf.predict(X_test_scaled)\n",
    "print('Test prediction: ', svm_pred_test[index])\n",
    "print(\"Test Targets: \", y_test[index] )\n",
    "# ['x_pos', 'y_pos', 'z_pos', 'width', 'lenght', 'height', 'yaw']"
   ]
  },
  {
   "cell_type": "markdown",
   "metadata": {},
   "source": [
    "## Visualizing 3D plot"
   ]
  },
  {
   "cell_type": "code",
   "execution_count": 180,
   "metadata": {},
   "outputs": [
    {
     "name": "stdout",
     "output_type": "stream",
     "text": [
      "[[-3.28143298  0.37331943 -1.13946159  1.76092347  4.45394216  1.38836724\n",
      "   1.54497744]]\n",
      "[-3.3672389   0.45551847 -1.13679374  1.861       4.554       1.473\n",
      "  1.60046349]\n"
     ]
    }
   ],
   "source": [
    "# sample index to predict 1000,900,100,485\n",
    "# index more or less ok 600,910,637\n",
    "idx = 785 # Idx \n",
    "# Make a prediction\n",
    "svm_pred_test = clf.predict(X_train_scaled[idx, :].reshape(1, -1))\n",
    "# Extract relevant info of the prediction\n",
    "fast_test = y_train_tokens.to_numpy()\n",
    "sample_token, cam_token, label = fast_test[idx, :]\n",
    "# Compare ground truth vs prediction\\n\",\n",
    "print(svm_pred_test)\n",
    "print(y_train[idx, :])"
   ]
  },
  {
   "cell_type": "code",
   "execution_count": 181,
   "metadata": {},
   "outputs": [],
   "source": [
    "# Create a Quaternion with the orientation of the predicted vehicle\n",
    "# IT HAS TO BE -1\n",
    "q0 = Quaternion(axis=[0, 0, 1], angle = svm_pred_test[0][6])\n",
    "# Create the bounding box object\n",
    "bbox = Box(svm_pred_test[0][:3], svm_pred_test[0][3:6], q0, name = label, \n",
    "               token = sample_token)"
   ]
  },
  {
   "cell_type": "code",
   "execution_count": 182,
   "metadata": {},
   "outputs": [
    {
     "data": {
      "image/png": "[encoded data removed]",
      "text/plain": [
       "<Figure size 1296x648 with 1 Axes>"
      ]
     },
     "metadata": {
      "needs_background": "light"
     },
     "output_type": "display_data"
    }
   ],
   "source": [
    "# Plot the results\n",
    "plot_3d_image_(nusc, cam_token, label, sample_token, bbox)"
   ]
  },
  {
   "cell_type": "markdown",
   "metadata": {},
   "source": [
    "## MLP Regressor"
   ]
  },
  {
   "cell_type": "code",
   "execution_count": 44,
   "metadata": {},
   "outputs": [
    {
     "data": {
      "text/plain": [
       "3"
      ]
     },
     "execution_count": 44,
     "metadata": {},
     "output_type": "execute_result"
    }
   ],
   "source": [
    "from sklearn.neural_network import MLPRegressor\n",
    "\n",
    "mlp_reg = MLPRegressor(hidden_layer_sizes=700,random_state=1, max_iter=800).fit(X_train_scaled, y_train)\n",
    "mlp_reg.n_layers_"
   ]
  },
  {
   "cell_type": "code",
   "execution_count": 45,
   "metadata": {},
   "outputs": [
    {
     "name": "stdout",
     "output_type": "stream",
     "text": [
      "Test prediction:  [19.50341155  6.15775577 -0.43964459  2.39573798  7.23902058  3.04359553\n",
      " -1.93631883]\n",
      "Test Targets:  [24.78365417  9.25417285  0.3515055   2.908      10.909       4.454\n",
      " -2.80154092]\n"
     ]
    }
   ],
   "source": [
    "mlp_pred_test = mlp_reg.predict(X_test_scaled)\n",
    "print('Test prediction: ', mlp_pred_test[50])\n",
    "print(\"Test Targets: \", y_test[50] )\n",
    "# ['x_pos', 'y_pos', 'z_pos', 'width', 'lenght', 'height', 'yaw']"
   ]
  },
  {
   "cell_type": "markdown",
   "metadata": {},
   "source": [
    "---"
   ]
  }
 ],
 "metadata": {
  "kernelspec": {
   "display_name": "Python 3",
   "language": "python",
   "name": "python3"
  },
  "language_info": {
   "codemirror_mode": {
    "name": "ipython",
    "version": 3
   },
   "file_extension": ".py",
   "mimetype": "text/x-python",
   "name": "python",
   "nbconvert_exporter": "python",
   "pygments_lexer": "ipython3",
   "version": "3.7.7"
  }
 },
 "nbformat": 4,
 "nbformat_minor": 4
}
