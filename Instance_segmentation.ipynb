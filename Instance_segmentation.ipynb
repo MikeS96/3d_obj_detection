{
 "cells": [
  {
   "cell_type": "code",
   "execution_count": 1,
   "metadata": {},
   "outputs": [],
   "source": [
    "import numpy as np\n",
    "import cv2\n",
    "from PIL import Image\n",
    "import open3d as o3d\n",
    "import json\n",
    "\n",
    "import matplotlib.pyplot as plt\n",
    "from matplotlib.axes import Axes\n",
    "from matplotlib import rcParams\n",
    "from shapely.geometry import MultiPoint, box\n",
    "\n",
    "# from pyquaternion.quaternion import Quaternion\n",
    "from pyquaternion import Quaternion\n",
    "import os.path as osp\n",
    "from nuscenes import NuScenes\n",
    "\n",
    "# Utils for Lidar and Radar\n",
    "from nuscenes.nuscenes import NuScenes\n",
    "from nuscenes.utils.geometry_utils import view_points, BoxVisibility\n",
    "from nuscenes.utils.data_classes import LidarPointCloud\n",
    "from nuscenes.utils.data_classes import RadarPointCloud\n",
    "from nuscenes.scripts.export_2d_annotations_as_json import get_2d_boxes, post_process_coords\n",
    "from utils import *\n",
    "\n",
    "from typing import Tuple, List, Dict, Union\n",
    "\n",
    "%matplotlib inline"
   ]
  },
  {
   "cell_type": "code",
   "execution_count": 2,
   "metadata": {},
   "outputs": [
    {
     "name": "stdout",
     "output_type": "stream",
     "text": [
      "======\n",
      "Loading NuScenes tables for version v1.0-mini...\n",
      "23 category,\n",
      "8 attribute,\n",
      "4 visibility,\n",
      "911 instance,\n",
      "12 sensor,\n",
      "120 calibrated_sensor,\n",
      "31206 ego_pose,\n",
      "8 log,\n",
      "10 scene,\n",
      "404 sample,\n",
      "31206 sample_data,\n",
      "18538 sample_annotation,\n",
      "4 map,\n",
      "Done loading in 0.4 seconds.\n",
      "======\n",
      "Reverse indexing ...\n",
      "Done reverse indexing in 0.1 seconds.\n",
      "======\n"
     ]
    }
   ],
   "source": [
    "#nusc = NuScenes(version='v1.0-mini', dataroot='/home/gus/Documents/AI_S/nuScenes/v1_0-mini', verbose=True)\n",
    "nusc = NuScenes(version='v1.0-mini', dataroot='/home/sherlock/Documents/nuScenes/data', verbose=True)"
   ]
  },
  {
   "cell_type": "code",
   "execution_count": 12,
   "metadata": {},
   "outputs": [
    {
     "name": "stdout",
     "output_type": "stream",
     "text": [
      "74079cc158d24b789fb1b5ad428aa54d\n"
     ]
    }
   ],
   "source": [
    "# Load the information from .txt file in JSON format\n",
    "sample_path = '/home/sherlock/Documents/3d_obj_detection/anns/sample_0a0d6b8c2e884134a3b48df43d54c36a_file.txt'\n",
    "# sample_path = '/home/gus/Documents/AI_S/ML/PF/sample_file/sample_ca9a282c9e77460f8360f564131a8af5_file.txt'\n",
    "\n",
    "# This is a Dictionary of lists of dictionaries\n",
    "data_json = load_file(sample_path)"
   ]
  },
  {
   "cell_type": "code",
   "execution_count": 16,
   "metadata": {},
   "outputs": [],
   "source": [
    "for x in data_json['instance']:\n",
    "    # Use dumps to print each \n",
    "    #print(json.dumps(x))\n",
    "    \n",
    "    #pc_anno_7e66fdf908d84237943c833e6c1b317a.txt is empty!!\n",
    "    if x['pointcloud_path'] != \"/home/gus/Documents/AI_S/ML/PF/anno_pc/pc_anno_7e66fdf908d84237943c833e6c1b317a.txt\":\n",
    "        # Load the Point Cloud from the .txt file\n",
    "        pointcloud = load_pcl_txt(x['pointcloud_path'],x['pcl_shape'])"
   ]
  },
  {
   "cell_type": "code",
   "execution_count": 17,
   "metadata": {},
   "outputs": [],
   "source": [
    "# Plotting the segmented point cloud\n",
    "Velopoints = np.asarray(pointcloud.T, np.float32)\n",
    "\n",
    "pcd = o3d.geometry.PointCloud()\n",
    "pcd.points = o3d.utility.Vector3dVector(Velopoints)\n",
    "\n",
    "# visualizing the 3D point cloud\n",
    "o3d.visualization.draw_geometries([pcd])"
   ]
  },
  {
   "cell_type": "code",
   "execution_count": null,
   "metadata": {},
   "outputs": [],
   "source": []
  }
 ],
 "metadata": {
  "kernelspec": {
   "display_name": "Python 3",
   "language": "python",
   "name": "python3"
  },
  "language_info": {
   "codemirror_mode": {
    "name": "ipython",
    "version": 3
   },
   "file_extension": ".py",
   "mimetype": "text/x-python",
   "name": "python",
   "nbconvert_exporter": "python",
   "pygments_lexer": "ipython3",
   "version": "3.7.7"
  }
 },
 "nbformat": 4,
 "nbformat_minor": 4
}
