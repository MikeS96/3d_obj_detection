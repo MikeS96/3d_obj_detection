{
 "cells": [
  {
   "cell_type": "markdown",
   "metadata": {
    "colab_type": "text",
    "id": "zorWA5rUPSel"
   },
   "source": [
    "# Creates the .txt file"
   ]
  },
  {
   "cell_type": "code",
   "execution_count": 1,
   "metadata": {
    "colab": {},
    "colab_type": "code",
    "executionInfo": {
     "elapsed": 415,
     "status": "ok",
     "timestamp": 1598470408015,
     "user": {
      "displayName": "GUSTAVO ANDRES SALAZAR GOMEZ",
      "photoUrl": "",
      "userId": "10827691154993089775"
     },
     "user_tz": 300
    },
    "id": "wvygaZqMysNl"
   },
   "outputs": [],
   "source": [
    "import json"
   ]
  },
  {
   "cell_type": "code",
   "execution_count": 2,
   "metadata": {
    "colab": {},
    "colab_type": "code",
    "executionInfo": {
     "elapsed": 436,
     "status": "ok",
     "timestamp": 1598470409008,
     "user": {
      "displayName": "GUSTAVO ANDRES SALAZAR GOMEZ",
      "photoUrl": "",
      "userId": "10827691154993089775"
     },
     "user_tz": 300
    },
    "id": "RbIo2Oupy2i7"
   },
   "outputs": [],
   "source": [
    "#create a directory\n",
    "data_json = {}\n",
    "\n",
    "#main key\n",
    "data_json['instance'] = []"
   ]
  },
  {
   "cell_type": "code",
   "execution_count": 3,
   "metadata": {
    "colab": {},
    "colab_type": "code",
    "executionInfo": {
     "elapsed": 425,
     "status": "ok",
     "timestamp": 1598470410256,
     "user": {
      "displayName": "GUSTAVO ANDRES SALAZAR GOMEZ",
      "photoUrl": "",
      "userId": "10827691154993089775"
     },
     "user_tz": 300
    },
    "id": "W5L2xahA1eSI"
   },
   "outputs": [],
   "source": [
    "#stores the data information in dictionary\n",
    "data_json['instance'].append({\n",
    "    'annotation_token': 'concha',\n",
    "    'pointcloud_path': 'path',\n",
    "    'position_coord': [1,2,3],\n",
    "    'lwh_values': [4,5,6],\n",
    "    'orientation_values': [5,0,0],\n",
    "    'category': 'carro'\n",
    "})\n",
    "data_json['instance'].append({\n",
    "    'annotation_token': 'perro21',\n",
    "    'pointcloud_path': 'path43',\n",
    "    'position_coord': [9,7,6],\n",
    "    'lwh_values': [3,5,5],\n",
    "    'orientation_values': [2,0,0],\n",
    "    'category': 'bus'\n",
    "})"
   ]
  },
  {
   "cell_type": "code",
   "execution_count": 4,
   "metadata": {
    "colab": {},
    "colab_type": "code",
    "id": "Xp8NE91P3nxg"
   },
   "outputs": [
    {
     "name": "stdout",
     "output_type": "stream",
     "text": [
      "concha\n",
      "[1, 2, 3]\n",
      "perro21\n",
      "[9, 7, 6]\n"
     ]
    }
   ],
   "source": [
    "#loop to validate the data stored\n",
    "for a in data_json['instance']:\n",
    "  c = a['annotation_token']\n",
    "  print(c)\n",
    "  print(a['position_coord'] )"
   ]
  },
  {
   "cell_type": "code",
   "execution_count": 6,
   "metadata": {
    "colab": {},
    "colab_type": "code",
    "executionInfo": {
     "elapsed": 408,
     "status": "ok",
     "timestamp": 1598470415046,
     "user": {
      "displayName": "GUSTAVO ANDRES SALAZAR GOMEZ",
      "photoUrl": "",
      "userId": "10827691154993089775"
     },
     "user_tz": 300
    },
    "id": "hOZQzULDOfkY"
   },
   "outputs": [],
   "source": [
    "#writes a .txt file with the information in json format\n",
    "with open('test_json.txt', 'w') as outfile:\n",
    "    json.dump(data_json, outfile)"
   ]
  },
  {
   "cell_type": "markdown",
   "metadata": {
    "colab_type": "text",
    "id": "brcPQqU8PL6i"
   },
   "source": [
    "#Loads .txt with json info"
   ]
  },
  {
   "cell_type": "code",
   "execution_count": 13,
   "metadata": {
    "colab": {},
    "colab_type": "code",
    "executionInfo": {
     "elapsed": 471,
     "status": "ok",
     "timestamp": 1598470921929,
     "user": {
      "displayName": "GUSTAVO ANDRES SALAZAR GOMEZ",
      "photoUrl": "",
      "userId": "10827691154993089775"
     },
     "user_tz": 300
    },
    "id": "mHcDJrdDPaxM"
   },
   "outputs": [],
   "source": [
    "#open the .txt file and load the info\n",
    "with open('test_json.txt') as json_file:\n",
    "    data = json.load(json_file)"
   ]
  },
  {
   "cell_type": "code",
   "execution_count": 14,
   "metadata": {
    "colab": {
     "base_uri": "https://localhost:8080/",
     "height": 71
    },
    "colab_type": "code",
    "executionInfo": {
     "elapsed": 523,
     "status": "ok",
     "timestamp": 1598470923220,
     "user": {
      "displayName": "GUSTAVO ANDRES SALAZAR GOMEZ",
      "photoUrl": "",
      "userId": "10827691154993089775"
     },
     "user_tz": 300
    },
    "id": "32DcLpMjPz96",
    "outputId": "d165fcee-5744-460d-df00-a3fd44140d2a"
   },
   "outputs": [
    {
     "name": "stdout",
     "output_type": "stream",
     "text": [
      "{\"annotation_token\": \"concha\", \"pointcloud_path\": \"path\", \"position_coord\": [1, 2, 3], \"lwh_values\": [4, 5, 6], \"orientation_values\": [5, 0, 0], \"category\": \"carro\"}\n",
      "{\"annotation_token\": \"perro21\", \"pointcloud_path\": \"path43\", \"position_coord\": [9, 7, 6], \"lwh_values\": [3, 5, 5], \"orientation_values\": [2, 0, 0], \"category\": \"bus\"}\n"
     ]
    }
   ],
   "source": [
    "for x in data['instance']:\n",
    "  #use dumps to print each \n",
    "  print(json.dumps(x))\n",
    "  \n",
    "  \"\"\"\n",
    "  #if need to access to each field\n",
    "  print('{')\n",
    "  print(' annotation_token: ',x['annotation_token'])\n",
    "  print(' pointcloud_path: ',x['pointcloud_path'])\n",
    "  print(' position_coord: ',x['position_coord'])\n",
    "  print(' lwh_values: ',x['lwh_values'])\n",
    "  print(' orientation_values: ',x['orientation_values'])\n",
    "  print(' category: ',x['category'])\n",
    "  print('}')\n",
    "  \"\"\""
   ]
  }
 ],
 "metadata": {
  "colab": {
   "authorship_tag": "ABX9TyObwEmFOnlvEX6Ay0TvveQw",
   "collapsed_sections": [],
   "mount_file_id": "1RWCRqadXoMB6pCMIUMaLFaTF0DYstrRw",
   "name": "test_json.ipynb",
   "provenance": []
  },
  "kernelspec": {
   "display_name": "Python 3",
   "language": "python",
   "name": "python3"
  },
  "language_info": {
   "codemirror_mode": {
    "name": "ipython",
    "version": 3
   },
   "file_extension": ".py",
   "mimetype": "text/x-python",
   "name": "python",
   "nbconvert_exporter": "python",
   "pygments_lexer": "ipython3",
   "version": "3.7.7"
  }
 },
 "nbformat": 4,
 "nbformat_minor": 1
}
